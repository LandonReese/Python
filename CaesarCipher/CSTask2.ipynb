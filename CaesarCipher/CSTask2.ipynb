{
 "cells": [
  {
   "cell_type": "code",
   "execution_count": null,
   "metadata": {},
   "outputs": [],
   "source": [
    "#Jupyter Notebook 1\n",
    "import customEncrypt\n",
    "def testCustomEncrypt():\n",
    "    userId = \"\"\n",
    "    encryptId = \"\"\n",
    "    userPassword = \"\"\n",
    "    encryptPassword = \"\"\n",
    "    invalid = True  #initializing as True\n",
    "    userId = input(\"Enter a username: \")\n",
    "    while invalid:\n",
    "        invalid = False #not invalid, until proven invalid\n",
    "        for char in userId:\n",
    "            if ord(char) == 32 or ord(char) == 33:\n",
    "                print(\"Please enter a username without a ' ' or an '!': \")\n",
    "                invalid = True\n",
    "    \n",
    "    userPassword = input(\"Enter a password: \")\n",
    "    while invalid:\n",
    "        invalid = False #not invalid, until proven invalid\n",
    "        for char in userPassword:\n",
    "            if ord(char) == 32 or ord(char) == 33:\n",
    "                print(\"Please enter a password without a ' ' or an '!': \")\n",
    "                invalid = True\n",
    "    \n",
    "    N = int(input(\"Enter a positive integer for a shift amount: \"))\n",
    "    while N <= 0:\n",
    "        N = int(input(\"Invalid input. Please enter a positive integer: \"))\n",
    "\n",
    "    D = int(input(\"Enter 1 (Right shift) or -1 (Left shift): \"))\n",
    "    while D != 1 and D != -1:\n",
    "        D = int(input(\"Invalid input. Enter 1 (Right shift) or -1 (Left shift): \"))\n",
    "        \n",
    "    encryptId = customEncrypt.customEncrypt(userId, N, D)\n",
    "    encryptPassword = customEncrypt.customEncrypt(userPassword, N, D)\n",
    "    \n",
    "    print(\"userId:          \" + userId)\n",
    "    print(\"reversedId:      \" + userPassword)\n",
    "    print(\"encryptedId:     \" + encryptId)\n",
    "    print(\"encryptPassword: \" + encryptPassword)\n",
    "    \n",
    "testCustomEncrypt()"
   ]
  },
  {
   "cell_type": "code",
   "execution_count": null,
   "metadata": {},
   "outputs": [],
   "source": []
  }
 ],
 "metadata": {
  "kernelspec": {
   "display_name": "Python 3",
   "language": "python",
   "name": "python3"
  },
  "language_info": {
   "codemirror_mode": {
    "name": "ipython",
    "version": 3
   },
   "file_extension": ".py",
   "mimetype": "text/x-python",
   "name": "python",
   "nbconvert_exporter": "python",
   "pygments_lexer": "ipython3",
   "version": "3.11.2"
  },
  "orig_nbformat": 4,
  "vscode": {
   "interpreter": {
    "hash": "aee8b7b246df8f9039afb4144a1f6fd8d2ca17a180786b69acc140d282b71a49"
   }
  }
 },
 "nbformat": 4,
 "nbformat_minor": 2
}
