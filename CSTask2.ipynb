{
 "cells": [
  {
   "cell_type": "code",
   "execution_count": null,
   "metadata": {},
   "outputs": [],
   "source": [
    "#Jupyter Notebook 1\n",
    "def testCustomEncrypt():\n",
    "    invalid = True  #initializing as True\n",
    "    inputText = input(\"Enter a username: \")\n",
    "    while invalid:\n",
    "        invalid = False #not invalid, until proven invalid\n",
    "        for char in inputText:\n",
    "            if ord(char) == 32 or ord(char) == 33:\n",
    "                print(\"Please enter a username without ' ' or '!': \")\n",
    "                invalid = True\n",
    "    print(inputText)\n",
    "    print()"
   ]
  }
 ],
 "metadata": {
  "kernelspec": {
   "display_name": "Python 3",
   "language": "python",
   "name": "python3"
  },
  "language_info": {
   "name": "python",
   "version": "3.8.2 (default, Jun  8 2021, 11:59:35) \n[Clang 12.0.5 (clang-1205.0.22.11)]"
  },
  "orig_nbformat": 4,
  "vscode": {
   "interpreter": {
    "hash": "31f2aee4e71d21fbe5cf8b01ff0e069b9275f58929596ceb00d14d90e3e16cd6"
   }
  }
 },
 "nbformat": 4,
 "nbformat_minor": 2
}
