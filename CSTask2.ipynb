{
 "cells": [
  {
   "cell_type": "code",
   "execution_count": null,
   "metadata": {},
   "outputs": [],
   "source": [
    "#Jupyter Notebook 1\n",
    "def testCustomEncrypt():\n",
    "    userId = \"\"\n",
    "    encryptId = \"\"\n",
    "    userPassword = \"\"\n",
    "    encryptPassword = \"\"\n",
    "    invalid = True  #initializing as True\n",
    "    userId = input(\"Enter a username: \")\n",
    "    while invalid:\n",
    "        invalid = False #not invalid, until proven invalid\n",
    "        for char in userId:\n",
    "            if ord(char) == 32 or ord(char) == 33:\n",
    "                print(\"Please enter a username without ' ' or '!': \")\n",
    "                invalid = True\n",
    "    print(userId)\n",
    "    \n",
    "    N = int(input(\"Enter a positive integer for a shift amount: \"))\n",
    "    while N <= 0:\n",
    "        N = int(input(\"Invalid input. Please enter a positive integer: \"))\n",
    "\n",
    "    D = int(input(\"Enter 1 (Right shift) or -1 (Left shift): \"))\n",
    "    while D != 1 and D != -1:\n",
    "        D = int(input(\"Invalid input. Enter 1 (Right shift) or -1 (Left shift): \"))\n",
    "        \n",
    "    encryptId = \"\".join(reversed(userId))\n",
    "    print(\"userId:      \" + userId)\n",
    "    print(\"reversedId:  \" + encryptId)\n",
    "\n",
    "    # 2. Shift all the ASCII characters in reversed input text by “N” positions.\n",
    "    for char in encryptId:\n",
    "        x = ord(char)           # x is the ASCII value of our character\n",
    "        y = N * D               # N * D = Our shift amount in the positive or negative direction\n",
    "        x += y                  # x is now an incremented ascii value\n",
    "        #lets say x = 45, shifted left 20. x now is 25\n",
    "        while x < 34:\n",
    "            x+=126\n",
    "        while x > 126:\n",
    "            x-=126\n",
    "        # print(x)\n",
    "        character = chr(x)\n",
    "        # print(character)\n",
    "        encryptedText = encryptedText + character\n",
    "\n",
    "    print(\"encryptedId: \" + encryptId)\n",
    "    \n",
    "    print()"
   ]
  }
 ],
 "metadata": {
  "kernelspec": {
   "display_name": "Python 3",
   "language": "python",
   "name": "python3"
  },
  "language_info": {
   "name": "python",
   "version": "3.8.2 (default, Jun  8 2021, 11:59:35) \n[Clang 12.0.5 (clang-1205.0.22.11)]"
  },
  "orig_nbformat": 4,
  "vscode": {
   "interpreter": {
    "hash": "31f2aee4e71d21fbe5cf8b01ff0e069b9275f58929596ceb00d14d90e3e16cd6"
   }
  }
 },
 "nbformat": 4,
 "nbformat_minor": 2
}
